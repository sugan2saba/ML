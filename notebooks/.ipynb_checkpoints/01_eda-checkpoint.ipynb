{
 "cells": [
  {
   "cell_type": "code",
   "execution_count": null,
   "id": "40ef1465",
   "metadata": {},
   "outputs": [],
   "source": [
    "# scripts/eda_quicklook.py\n",
    "import pandas as pd, numpy as np\n",
    "import matplotlib.pyplot as plt\n",
    "from pathlib import Path\n",
    "\n",
    "RAW = Path(\"data/raw/diabetic_data.csv\")\n",
    "df = pd.read_csv(RAW, low_memory=False)\n",
    "\n",
    "# replace UCI/Kaggle missing token\n",
    "df = df.replace(\"?\", np.nan)\n",
    "\n",
    "print(\"shape:\", df.shape)\n",
    "print(\"\\ncolumns:\\n\", df.columns.tolist())\n",
    "print(\"\\nmissing % (top 15):\\n\", (df.isna().mean().sort_values(ascending=False)*100).round(1).head(15))\n",
    "\n",
    "print(\"\\nreadmitted value counts:\\n\", df[\"readmitted\"].value_counts(dropna=False))\n",
    "print(\"\\nexample rows:\\n\", df.sample(3, random_state=42))\n",
    "\n",
    "# class balance (binary target)\n",
    "y = (df[\"readmitted\"] == \"<30\").astype(int)\n",
    "print(\"\\npositive rate (<30):\", y.mean().round(4))\n",
    "\n",
    "# numeric histograms\n",
    "num_like = [\"time_in_hospital\",\"num_lab_procedures\",\"num_procedures\",\"num_medications\",\n",
    "            \"number_outpatient\",\"number_emergency\",\"number_inpatient\",\"number_diagnoses\"]\n",
    "df[num_like].hist(bins=30, figsize=(12,8))\n",
    "plt.tight_layout(); plt.show()\n",
    "\n",
    "# high-cardinality peek\n",
    "for c in [\"medical_specialty\",\"diag_1\",\"diag_2\",\"diag_3\"]:\n",
    "    print(c, \"nunique:\", df[c].nunique(dropna=True), \"top:\", df[c].value_counts(dropna=False).head(5).to_dict())\n"
   ]
  },
  {
   "cell_type": "code",
   "execution_count": null,
   "id": "ca1797b5",
   "metadata": {},
   "outputs": [],
   "source": []
  }
 ],
 "metadata": {
  "kernelspec": {
   "display_name": ".venv",
   "language": "python",
   "name": "python3"
  },
  "language_info": {
   "name": "python",
   "version": "3.10.14"
  }
 },
 "nbformat": 4,
 "nbformat_minor": 5
}
